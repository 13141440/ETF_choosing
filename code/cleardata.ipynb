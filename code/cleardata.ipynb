{
 "cells": [
  {
   "cell_type": "code",
   "execution_count": 2,
   "metadata": {},
   "outputs": [],
   "source": [
    "import pandas as pd\n",
    "import yfinance as yf\n",
    "import numpy as np\n",
    "import matplotlib.pyplot as plt\n",
    "from sklearn.linear_model import LinearRegression"
   ]
  },
  {
   "cell_type": "code",
   "execution_count": 15,
   "metadata": {},
   "outputs": [
    {
     "name": "stdout",
     "output_type": "stream",
     "text": [
      "  Symbol                        Fund Name Asset Class        Assets  \\\n",
      "0    SPY           SPDR S&P 500 ETF Trust      Equity  6.363702e+11   \n",
      "1    VOO             Vanguard S&P 500 ETF      Equity  6.117447e+11   \n",
      "2    IVV         iShares Core S&P 500 ETF      Equity  5.997765e+11   \n",
      "3    VTI  Vanguard Total Stock Market ETF      Equity  4.699546e+11   \n",
      "4    QQQ       Invesco QQQ Trust Series I      Equity  3.248128e+11   \n",
      "\n",
      "   Stock Price % Change    Volume  Holdings    Open     Low  ...   50 MA  \\\n",
      "0       606.34    0.55%  46904621       505  605.92  605.36  ...  596.07   \n",
      "1       557.61    0.57%   4752858       507  557.19  556.73  ...  548.07   \n",
      "2       609.30    0.59%   3342603       508  608.90  608.36  ...  598.82   \n",
      "3       300.60    0.49%   3511041      3612  300.59  300.27  ...  295.68   \n",
      "4       531.51    1.28%  32748282       102  529.55  529.26  ...  516.37   \n",
      "\n",
      "   200 MA   20 MA  150 MA  20MA Chg %  50MA Chg % 150MA Chg %  200MA Chg %  \\\n",
      "0  558.40  592.17  571.27       2.39%       1.72%       6.14%        8.59%   \n",
      "1  513.37  544.61  525.24       2.39%       1.74%       6.16%        8.62%   \n",
      "2  561.16  594.94  574.13       2.41%       1.75%       6.13%        8.58%   \n",
      "3  276.07  293.16  282.36       2.54%       1.66%       6.46%        8.89%   \n",
      "4  479.69  518.00  491.29       2.61%       2.93%       8.19%       10.80%   \n",
      "\n",
      "  CUSIP Number   ISIN Number  \n",
      "0    78462F103  US78462F1030  \n",
      "1    922908363  US9229083632  \n",
      "2    464287200  US4642872000  \n",
      "3    922908769  US9229087690  \n",
      "4    46090E103  US46090E1038  \n",
      "\n",
      "[5 rows x 95 columns]\n"
     ]
    }
   ],
   "source": [
    "basicFileName=\"basic_data.csv\"\n",
    "basicDF=pd.read_csv('../data/'+basicFileName)\n",
    "firstDF=basicDF[['Symbol','Fund Name','Assets','Industry']]\n"
   ]
  },
  {
   "cell_type": "code",
   "execution_count": 14,
   "metadata": {},
   "outputs": [],
   "source": [
    "#计算单个ETF的alpha和beta\n",
    "def linear_regression(ticker):\n",
    "    \n",
    "    #df= ticker 的K 线图\n",
    "    #df=dataframes[ticker][0]\n",
    "    \n",
    "    list_alpha=[]\n",
    "    list_beta=[]\n",
    "    for year in range(2010,2026):\n",
    "        etf_Return_year=df.loc[df.index.year==year,'Return']\n",
    "        spy_Return_year=spy_data.loc[spy_data.index.year==year,'Return']\n",
    "        if len(etf_Return_year)==0 or len(spy_Return_year)==0:\n",
    "            list_alpha.append(np.nan)\n",
    "            list_beta.append(np.nan)\n",
    "            continue\n",
    "        #日期对齐和缺失数据补全（前项填充）\n",
    "        all_dates=pd.date_range(start=max(etf_Return_year.index.min(),spy_Return_year.index.min()),end=min(etf_Return_year.index.max(),spy_Return_year.index.max()))\n",
    "        etf_Return_year=etf_Return_year.reindex(all_dates).ffill()\n",
    "        spy_Return_year=spy_Return_year.reindex(all_dates).ffill()\n",
    "        X=spy_Return_year.values.reshape(-1,1)\n",
    "        y=etf_Return_year.values\n",
    "        model=LinearRegression().fit(X,y)\n",
    "        alpha=model.intercept_*252\n",
    "        beta=model.coef_[0]\n",
    "        list_alpha.append(alpha)\n",
    "        list_beta.append(beta)\n",
    "    return list_alpha,list_beta"
   ]
  }
 ],
 "metadata": {
  "kernelspec": {
   "display_name": "py311",
   "language": "python",
   "name": "python3"
  },
  "language_info": {
   "codemirror_mode": {
    "name": "ipython",
    "version": 3
   },
   "file_extension": ".py",
   "mimetype": "text/x-python",
   "name": "python",
   "nbconvert_exporter": "python",
   "pygments_lexer": "ipython3",
   "version": "3.11.7"
  }
 },
 "nbformat": 4,
 "nbformat_minor": 2
}
