{
 "cells": [
  {
   "cell_type": "code",
   "execution_count": 1,
   "metadata": {},
   "outputs": [],
   "source": [
    "import pandas as pd\n",
    "import yfinance as yf\n",
    "import numpy as np\n",
    "import matplotlib.pyplot as plt\n",
    "from sklearn.linear_model import LinearRegression\n",
    "import statsmodels.api as sm\n",
    "from scipy.stats import linregress"
   ]
  },
  {
   "cell_type": "code",
   "execution_count": 2,
   "metadata": {},
   "outputs": [],
   "source": [
    "PEARSONBOUND = 0.95"
   ]
  },
  {
   "cell_type": "code",
   "execution_count": 3,
   "metadata": {},
   "outputs": [],
   "source": [
    "basicFileName=\"basic_data.csv\"\n",
    "basicDF=pd.read_csv('../data/'+basicFileName)\n",
    "basicDF.drop_duplicates(inplace=True)\n",
    "basicDF['Symbol'].to_csv('../data/'+'ETFs.csv',index=False)\n"
   ]
  },
  {
   "cell_type": "code",
   "execution_count": 4,
   "metadata": {},
   "outputs": [
    {
     "name": "stdout",
     "output_type": "stream",
     "text": [
      "3963\n",
      "2136\n",
      "1763\n"
     ]
    },
    {
     "name": "stderr",
     "output_type": "stream",
     "text": [
      "/tmp/ipykernel_3158792/2128863428.py:6: SettingWithCopyWarning: \n",
      "A value is trying to be set on a copy of a slice from a DataFrame\n",
      "\n",
      "See the caveats in the documentation: https://pandas.pydata.org/pandas-docs/stable/user_guide/indexing.html#returning-a-view-versus-a-copy\n",
      "  firstDF.dropna(inplace=True,subset=['Category'])\n",
      "/tmp/ipykernel_3158792/2128863428.py:7: SettingWithCopyWarning: \n",
      "A value is trying to be set on a copy of a slice from a DataFrame\n",
      "\n",
      "See the caveats in the documentation: https://pandas.pydata.org/pandas-docs/stable/user_guide/indexing.html#returning-a-view-versus-a-copy\n",
      "  firstDF.dropna(inplace=True,subset=['Index'])\n",
      "/tmp/ipykernel_3158792/2128863428.py:8: SettingWithCopyWarning: \n",
      "A value is trying to be set on a copy of a slice from a DataFrame\n",
      "\n",
      "See the caveats in the documentation: https://pandas.pydata.org/pandas-docs/stable/user_guide/indexing.html#returning-a-view-versus-a-copy\n",
      "  firstDF.dropna(inplace=True,subset=['Assets'])\n"
     ]
    }
   ],
   "source": [
    "def firstSelect(df):\n",
    "    \n",
    "    #Inception记录股票上市时间\n",
    "    firstDF=df[['Symbol','Fund Name','Assets','Category','Index','Inception','Volume']]\n",
    "    print(len(firstDF))\n",
    "    firstDF.dropna(inplace=True,subset=['Category'])\n",
    "    firstDF.dropna(inplace=True,subset=['Index'])\n",
    "    firstDF.dropna(inplace=True,subset=['Assets'])\n",
    "    print(len(firstDF))\n",
    "\n",
    "    category_counts=firstDF['Category'].value_counts()\n",
    "    firstDF=firstDF[firstDF['Category'].isin(category_counts[category_counts>5].index)]\n",
    "    firstDF = firstDF.loc[firstDF.groupby('Index')['Assets'].idxmax()]\n",
    "\n",
    "    # 重置索引（可选）\n",
    "    firstDF = firstDF.reset_index(drop=True)\n",
    "\n",
    "    print(len(firstDF))\n",
    "\n",
    "    firstDF[['Index','Symbol']].to_csv(\"./111.csv\")\n",
    "    return firstDF\n",
    "    \n",
    "\n",
    "firstDF=firstSelect(basicDF)"
   ]
  },
  {
   "cell_type": "code",
   "execution_count": 5,
   "metadata": {},
   "outputs": [
    {
     "name": "stdout",
     "output_type": "stream",
     "text": [
      "\n",
      "Net Assets by Category:\n",
      "\n",
      "38                Large Blend\n",
      "39               Large Growth\n",
      "40                Large Value\n",
      "18        Foreign Large Blend\n",
      "66                 Technology\n",
      "               ...           \n",
      "64        Tactical Allocation\n",
      "53        Nontraditional Bond\n",
      "60            Single Currency\n",
      "67    Trading--Inverse Equity\n",
      "14              Equity Hedged\n",
      "Name: Category, Length: 73, dtype: object\n"
     ]
    }
   ],
   "source": [
    "#计算每类股票的资产总和\n",
    "def category_assets(df):\n",
    "    require_colums= [\"Category\",\"Assets\"]\n",
    "    for col in require_colums:\n",
    "        if col not in firstDF.columns:\n",
    "            print(\"Error: Missing column \"+col)\n",
    "            return\n",
    "\n",
    "    df[\"Assets\"]=pd.to_numeric(df[\"Assets\"],errors='coerce')\n",
    "    categorys=df.groupby(\"Category\")[\"Assets\"].sum().reset_index()\n",
    "    categorys=categorys.sort_values(\"Assets\",ascending=False)\n",
    "    \n",
    "    print(\"\\nNet Assets by Category:\\n\")\n",
    "    \n",
    "    \n",
    "    categorys.to_csv(\"../data/category_assets.csv\")\n",
    "    return categorys\n",
    "\n",
    "categorys=category_assets(firstDF)\n",
    "categorys.to_csv(\"../data/categorys.csv\")\n",
    "print(categorys[\"Category\"])\n",
    "# print(categorys[categorys[\"Category\"]==\"Large Blend\"])"
   ]
  },
  {
   "cell_type": "code",
   "execution_count": 6,
   "metadata": {},
   "outputs": [
    {
     "name": "stdout",
     "output_type": "stream",
     "text": [
      "Total Assets:  7760177616282.0\n",
      "\n",
      "Net Assets by Category:\n",
      "\n",
      "326\n"
     ]
    }
   ],
   "source": [
    "#Setp3:删除流动性和资产小于 val 的基金\n",
    "\n",
    "\n",
    "\n",
    "def filter_fund(df,categorys):\n",
    "    #决定使用哪种方式保留ETF\n",
    "    #0表示绝对数额，1表示百分比\n",
    "    method=0\n",
    "    \n",
    "    \n",
    "    \n",
    "    filtered_df = df.copy()\n",
    "    require_colums= [\"Category\",\"Assets\",\"Volume\"]\n",
    "    for col in require_colums:\n",
    "        if col not in firstDF.columns:\n",
    "            print(\"Error: Missing column \"+col)\n",
    "            return\n",
    "\n",
    "    totAssets=categorys[\"Assets\"].sum()\n",
    "    print(\"Total Assets: \",totAssets)\n",
    "        \n",
    "    cateVal={\"-1\":-1}\n",
    "    for etf in df[\"Category\"]:\n",
    "        cateVal[etf]=categorys[categorys[\"Category\"]==etf][\"Assets\"].values[0]\n",
    "    \n",
    "    df[\"calval\"]=df[\"Category\"].map(cateVal)\n",
    "    \n",
    "    # 保留Assets大于0.1%总资产的基金和大于5%该类资产的基金\n",
    "    if(method==0):\n",
    "        \n",
    "        filtered_df = df[\n",
    "            (df['Assets'] > 0.001 * totAssets) |\n",
    "            (df['Assets'] > df['Category'].map(lambda ca: 0.05 * cateVal.get(ca, 0)))\n",
    "        ]\n",
    "    \n",
    "    if(method==1):\n",
    "        # 第一步：计算全局的 Assets 后 10% 阈值\n",
    "        global_threshold = filtered_df['Assets'].quantile(0.10)\n",
    "\n",
    "        # 第二步：对每个 Category 计算 Assets 后 25% 的阈值\n",
    "        category_thresholds = filtered_df.groupby('Category')['Assets'].transform(lambda x: x.quantile(0.25))\n",
    "\n",
    "        # 第三步：过滤掉满足任一条件的股票\n",
    "        filtered_df = filtered_df[~((filtered_df['Assets'] <= category_thresholds) | (df['Assets'] <= global_threshold))]\n",
    "\n",
    "    \n",
    "    filtered_df = filtered_df[~filtered_df['Category'].str.contains('Leverage', na=False)]\n",
    "    filtered_df.to_csv(\"../data/filter_fund.csv\")\n",
    "    \n",
    "    filtered_df[\"Symbol\"].to_csv(\"../data/ETF1s.csv\",index=False)\n",
    "    return filtered_df\n",
    "\n",
    "secondDF=filter_fund(firstDF,categorys)\n",
    "categorys=category_assets(firstDF)\n",
    "print(len(secondDF))\n",
    "secondDF[\"Symbol\"].to_csv(\"./ETF2.csv\",index=False)"
   ]
  },
  {
   "cell_type": "code",
   "execution_count": 8,
   "metadata": {},
   "outputs": [
    {
     "name": "stdout",
     "output_type": "stream",
     "text": [
      "2.047702149987271e-19\n",
      "0.9999999999999994\n",
      "True\n",
      "326\n"
     ]
    }
   ],
   "source": [
    "# linear_regression(SPY,ETF)\n",
    "# find alpha and beta and 皮尔逊相关系数\n",
    "def linear_regression(basicDf1,basicDf2):\n",
    "    basicDf1[\"Date\"]=pd.to_datetime(basicDf1[\"date\"]).dt.date\n",
    "    basicDf2[\"Date\"]=pd.to_datetime(basicDf2[\"date\"]).dt.date\n",
    "    common_dates=set(basicDf1['Date']).intersection(set(basicDf2['Date']))\n",
    "    common_dates=sorted(list(common_dates))\n",
    "    \n",
    "    df1=basicDf1[basicDf1['Date'].isin(common_dates)]\n",
    "    df2=basicDf2[basicDf2['Date'].isin(common_dates)]\n",
    "    \n",
    "    \n",
    "    df1.reset_index(drop=True,inplace=True)\n",
    "    df2.reset_index(drop=True,inplace=True)\n",
    "    \n",
    "    df=pd.merge(df1[['Date','close']],df2[['Date','close']],on='Date',suffixes=('_1','_2'))\n",
    "    \n",
    "    \n",
    "    df['return1']=df1['close'].pct_change()\n",
    "    df['return2']=df2['close'].pct_change()\n",
    "    \n",
    "    \n",
    "    df=df.dropna()\n",
    "    x = sm.add_constant(df['return1'])\n",
    "    y = df['return2']\n",
    "\n",
    "    model = sm.OLS(y, x).fit()\n",
    "    \n",
    "    alpha = model.params['const']\n",
    "    beta = model.params['return1']\n",
    "    \n",
    "    correlation=np.corrcoef(df['return1'],df['return2'])[0,1]\n",
    "    \n",
    "    \n",
    "    # print(\"Alpha:\", alpha)\n",
    "    # print(\"Beta:\", beta)\n",
    "    # # 绘制 SPY 和 ETF 收益率的散点图和回归线\n",
    "    # plt.figure(figsize=(10, 6))\n",
    "    # plt.scatter(df['return1'], df['return2'], label='Data Points', alpha=0.6)\n",
    "    # plt.plot(df['return1'], alpha + beta * df['return1'], color='red', label='Regression Line')\n",
    "\n",
    "    # # 添加图表标题和标签\n",
    "    # plt.title('ETF Returns vs SPY Returns (Alpha and Beta)', fontsize=16)\n",
    "    # plt.xlabel('SPY Returns', fontsize=12)\n",
    "    # plt.ylabel('ETF Returns', fontsize=12)\n",
    "    # plt.legend()\n",
    "    # plt.grid(True)\n",
    "    # plt.show()\n",
    "    return alpha,beta,(abs(correlation)>PEARSONBOUND)\n",
    "\n",
    "\n",
    "\n",
    "dfSPY=pd.read_csv(\"../data/daily_data/SPY_daily.csv\")\n",
    "# dfVOO=pd.read_csv(\"../data/daily_data/QQQ_daily.csv\")\n",
    "# a,b,c=linear_regression(dfSPY,dfVOO)\n",
    "a,b,c=linear_regression(dfSPY,dfSPY)\n",
    "print(a)\n",
    "print(b)\n",
    "print(c)\n",
    "\n",
    "print(len(secondDF))"
   ]
  },
  {
   "cell_type": "code",
   "execution_count": 9,
   "metadata": {},
   "outputs": [
    {
     "name": "stdout",
     "output_type": "stream",
     "text": [
      "326\n"
     ]
    }
   ],
   "source": [
    "def chooseGoodAlpha(df):\n",
    "    goodETFs=[]\n",
    "    SPYETF=pd.read_csv(\"../data/daily_data/SPY_daily.csv\")\n",
    "    for etf in df[\"Symbol\"]:\n",
    "        try :\n",
    "            dfETF=pd.read_csv(\"../data/daily_data/\"+etf+\"_daily.csv\")\n",
    "        except Exception as e:\n",
    "            print(\"Error: \",etf)\n",
    "            print(e)\n",
    "            continue\n",
    "        if len(dfETF)<10:\n",
    "            # print(\"Empty: \",etf)\n",
    "            continue\n",
    "        # print(etf)\n",
    "        # print(len(dfETF))\n",
    "        # print(SPYETF.head())\n",
    "        # print(dfETF.head())\n",
    "        a,b,c=linear_regression(SPYETF,dfETF)\n",
    "        if a>-0.01:\n",
    "            goodETFs.append(etf)\n",
    "        \n",
    "    ThirdDF=df[df[\"Symbol\"].isin(goodETFs)]\n",
    "    return ThirdDF\n",
    "\n",
    "ThirdDF=chooseGoodAlpha(secondDF)\n",
    "print(len(ThirdDF))\n",
    "ThirdDF[\"Symbol\"].to_csv(\"../data/ETF3.csv\",index=False,header=False)"
   ]
  }
 ],
 "metadata": {
  "kernelspec": {
   "display_name": "py311",
   "language": "python",
   "name": "python3"
  },
  "language_info": {
   "codemirror_mode": {
    "name": "ipython",
    "version": 3
   },
   "file_extension": ".py",
   "mimetype": "text/x-python",
   "name": "python",
   "nbconvert_exporter": "python",
   "pygments_lexer": "ipython3",
   "version": "3.11.7"
  }
 },
 "nbformat": 4,
 "nbformat_minor": 2
}
