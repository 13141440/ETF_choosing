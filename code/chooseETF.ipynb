{
 "cells": [
  {
   "cell_type": "code",
   "execution_count": 11,
   "metadata": {},
   "outputs": [],
   "source": [
    "import pandas as pd\n",
    "import yfinance as yf\n",
    "import numpy as np\n",
    "import matplotlib.pyplot as plt\n",
    "from sklearn.linear_model import LinearRegression\n",
    "import statsmodels.api as sm\n",
    "from scipy.stats import linregress"
   ]
  },
  {
   "cell_type": "code",
   "execution_count": 12,
   "metadata": {},
   "outputs": [],
   "source": [
    "PEARSONBOUND = 0.95"
   ]
  },
  {
   "cell_type": "code",
   "execution_count": 13,
   "metadata": {},
   "outputs": [
    {
     "name": "stdout",
     "output_type": "stream",
     "text": [
      "3963\n",
      "2136\n",
      "1823\n"
     ]
    },
    {
     "name": "stderr",
     "output_type": "stream",
     "text": [
      "/tmp/ipykernel_3001002/1385428522.py:8: SettingWithCopyWarning: \n",
      "A value is trying to be set on a copy of a slice from a DataFrame\n",
      "\n",
      "See the caveats in the documentation: https://pandas.pydata.org/pandas-docs/stable/user_guide/indexing.html#returning-a-view-versus-a-copy\n",
      "  firstDF.dropna(inplace=True,subset=['Category'])\n",
      "/tmp/ipykernel_3001002/1385428522.py:9: SettingWithCopyWarning: \n",
      "A value is trying to be set on a copy of a slice from a DataFrame\n",
      "\n",
      "See the caveats in the documentation: https://pandas.pydata.org/pandas-docs/stable/user_guide/indexing.html#returning-a-view-versus-a-copy\n",
      "  firstDF.dropna(inplace=True,subset=['Index'])\n",
      "/tmp/ipykernel_3001002/1385428522.py:10: SettingWithCopyWarning: \n",
      "A value is trying to be set on a copy of a slice from a DataFrame\n",
      "\n",
      "See the caveats in the documentation: https://pandas.pydata.org/pandas-docs/stable/user_guide/indexing.html#returning-a-view-versus-a-copy\n",
      "  firstDF.dropna(inplace=True,subset=['Assets'])\n"
     ]
    }
   ],
   "source": [
    "basicFileName=\"basic_data.csv\"\n",
    "basicDF=pd.read_csv('../data/'+basicFileName)\n",
    "basicDF.drop_duplicates(inplace=True)\n",
    "basicDF['Symbol'].to_csv('../data/'+'ETFs.csv',index=False)\n",
    "#Inception记录股票上市时间\n",
    "firstDF=basicDF[['Symbol','Fund Name','Assets','Category','Index','Inception','Volume']]\n",
    "print(len(firstDF))\n",
    "firstDF.dropna(inplace=True,subset=['Category'])\n",
    "firstDF.dropna(inplace=True,subset=['Index'])\n",
    "firstDF.dropna(inplace=True,subset=['Assets'])\n",
    "print(len(firstDF))\n",
    "firstDF = firstDF.loc[firstDF.groupby('Index')['Assets'].idxmax()]\n",
    "\n",
    "# 重置索引（可选）\n",
    "firstDF = firstDF.reset_index(drop=True)\n",
    "\n",
    "print(len(firstDF))\n",
    "\n",
    "firstDF[['Index','Symbol']].to_csv(\"./111.csv\")\n"
   ]
  },
  {
   "cell_type": "code",
   "execution_count": 14,
   "metadata": {},
   "outputs": [
    {
     "name": "stdout",
     "output_type": "stream",
     "text": [
      "\n",
      "Net Assets by Category:\n",
      "\n",
      "49                         Large Blend\n",
      "50                        Large Growth\n",
      "51                         Large Value\n",
      "25                 Foreign Large Blend\n",
      "88                          Technology\n",
      "                    ...               \n",
      "19                       Equity Hedged\n",
      "34           Global Large-Stock Growth\n",
      "62    Moderately Aggressive Allocation\n",
      "54                   Long-Short Equity\n",
      "66        Muni California Intermediate\n",
      "Name: Category, Length: 95, dtype: object\n"
     ]
    }
   ],
   "source": [
    "#计算每类股票的资产总和\n",
    "def category_assets(df):\n",
    "    require_colums= [\"Category\",\"Assets\"]\n",
    "    for col in require_colums:\n",
    "        if col not in firstDF.columns:\n",
    "            print(\"Error: Missing column \"+col)\n",
    "            return\n",
    "\n",
    "    df[\"Assets\"]=pd.to_numeric(df[\"Assets\"],errors='coerce')\n",
    "    categorys=df.groupby(\"Category\")[\"Assets\"].sum().reset_index()\n",
    "    categorys=categorys.sort_values(\"Assets\",ascending=False)\n",
    "    \n",
    "    print(\"\\nNet Assets by Category:\\n\")\n",
    "    \n",
    "    \n",
    "    categorys.to_csv(\"../data/category_assets.csv\")\n",
    "    return categorys\n",
    "\n",
    "categorys=category_assets(firstDF)\n",
    "categorys.to_csv(\"../data/categorys.csv\")\n",
    "print(categorys[\"Category\"])\n",
    "# print(categorys[categorys[\"Category\"]==\"Large Blend\"])"
   ]
  },
  {
   "cell_type": "code",
   "execution_count": 19,
   "metadata": {},
   "outputs": [
    {
     "name": "stdout",
     "output_type": "stream",
     "text": [
      "Total Assets:  7904078304875.0\n",
      "\n",
      "Net Assets by Category:\n",
      "\n"
     ]
    }
   ],
   "source": [
    "#Setp3:删除流动性和资产小于 val 的基金\n",
    "\n",
    "def filter_fund(df,categorys):\n",
    "    require_colums= [\"Category\",\"Assets\",\"Volume\"]\n",
    "    for col in require_colums:\n",
    "        if col not in firstDF.columns:\n",
    "            print(\"Error: Missing column \"+col)\n",
    "            return\n",
    "\n",
    "    totAssets=categorys[\"Assets\"].sum()\n",
    "    print(\"Total Assets: \",totAssets)\n",
    "        \n",
    "    cateVal={\"-1\":-1}\n",
    "    for etf in df[\"Category\"]:\n",
    "        cateVal[etf]=categorys[categorys[\"Category\"]==etf][\"Assets\"].values[0]\n",
    "    \n",
    "    df[\"calval\"]=df[\"Category\"].map(cateVal)\n",
    "    \n",
    "    #保留Assets大于0.1%总资产的基金和大于5%该类资产的基金\n",
    "    filtered_df = df[\n",
    "        (df['Assets'] > 0.001 * totAssets) |\n",
    "        (df['Assets'] > df['Category'].map(lambda ca: 0.05 * cateVal.get(ca, 0)))\n",
    "    ]\n",
    "    \n",
    "    filtered_df = df[~df['Category'].str.contains('Leverage', na=False)]\n",
    "    filtered_df.to_csv(\"../data/filter_fund.csv\")\n",
    "    \n",
    "    filtered_df[\"Symbol\"].to_csv(\"../data/ETF1s.csv\",index=False)\n",
    "    return df\n",
    "\n",
    "df2=filter_fund(firstDF,categorys)\n",
    "categorys=category_assets(firstDF)\n"
   ]
  },
  {
   "cell_type": "code",
   "execution_count": 16,
   "metadata": {},
   "outputs": [
    {
     "name": "stdout",
     "output_type": "stream",
     "text": [
      "0.0001664940081468543\n",
      "1.1054567265769366\n",
      "False\n"
     ]
    }
   ],
   "source": [
    "# linear_regression(SPY,ETF)\n",
    "# find alpha and beta and 皮尔逊相关系数\n",
    "def linear_regression(basicDf1,basicDf2):\n",
    "    basicDf1[\"Date\"]=pd.to_datetime(basicDf1[\"date\"]).dt.date\n",
    "    basicDf2[\"Date\"]=pd.to_datetime(basicDf2[\"date\"]).dt.date\n",
    "    common_dates=set(basicDf1['Date']).intersection(set(basicDf2['Date']))\n",
    "    common_dates=sorted(list(common_dates))\n",
    "    df1=basicDf1[basicDf1['Date'].isin(common_dates)]\n",
    "    df2=basicDf2[basicDf2['Date'].isin(common_dates)]\n",
    "    df=pd.merge(df1[['Date','close']],df2[['Date','close']],on='Date',suffixes=('_1','_2'))\n",
    "    df['return1']=df1['close'].pct_change()\n",
    "    df['return2']=df2['close'].pct_change()\n",
    "    df=df.dropna()\n",
    "    x = sm.add_constant(df['return1'])\n",
    "    y = df['return2']\n",
    "    \n",
    "    model = sm.OLS(y, x).fit()\n",
    "    alpha = model.params['const']\n",
    "    beta = model.params['return1']\n",
    "    \n",
    "    correlation=np.corrcoef(df['return1'],df['return2'])[0,1]\n",
    "    \n",
    "    \n",
    "    # print(\"Alpha:\", alpha)\n",
    "    # print(\"Beta:\", beta)\n",
    "    # # 绘制 SPY 和 ETF 收益率的散点图和回归线\n",
    "    # plt.figure(figsize=(10, 6))\n",
    "    # plt.scatter(df['return1'], df['return2'], label='Data Points', alpha=0.6)\n",
    "    # plt.plot(df['return1'], alpha + beta * df['return1'], color='red', label='Regression Line')\n",
    "\n",
    "    # # 添加图表标题和标签\n",
    "    # plt.title('ETF Returns vs SPY Returns (Alpha and Beta)', fontsize=16)\n",
    "    # plt.xlabel('SPY Returns', fontsize=12)\n",
    "    # plt.ylabel('ETF Returns', fontsize=12)\n",
    "    # plt.legend()\n",
    "    # plt.grid(True)\n",
    "    # plt.show()\n",
    "    return alpha,beta,(abs(correlation)>PEARSONBOUND)\n",
    "    \n",
    "\n",
    "dfSPY=pd.read_csv(\"../data/daily_data/SPY_daily.csv\")\n",
    "dfVOO=pd.read_csv(\"../data/daily_data/QQQ_daily.csv\")\n",
    "a,b,c=linear_regression(dfSPY,dfVOO)\n",
    "print(a)\n",
    "print(b)\n",
    "print(c)"
   ]
  },
  {
   "cell_type": "code",
   "execution_count": null,
   "metadata": {},
   "outputs": [],
   "source": []
  }
 ],
 "metadata": {
  "kernelspec": {
   "display_name": "py311",
   "language": "python",
   "name": "python3"
  },
  "language_info": {
   "codemirror_mode": {
    "name": "ipython",
    "version": 3
   },
   "file_extension": ".py",
   "mimetype": "text/x-python",
   "name": "python",
   "nbconvert_exporter": "python",
   "pygments_lexer": "ipython3",
   "version": "3.11.7"
  }
 },
 "nbformat": 4,
 "nbformat_minor": 2
}
