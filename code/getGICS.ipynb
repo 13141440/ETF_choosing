{
 "cells": [
  {
   "cell_type": "code",
   "execution_count": 1,
   "metadata": {},
   "outputs": [],
   "source": [
    "\n",
    "dic={'Energy':10,'Materials':15,'Industrials':20,'Consumer Discretionary':25,'Consumer Staples':30,'Health Care':35,'Financials':40,'Information Technology':45,'Telecommunication Services':50,'Utilities':55,'Real Estate':60}"
   ]
  },
  {
   "cell_type": "code",
   "execution_count": 2,
   "metadata": {},
   "outputs": [
    {
     "name": "stderr",
     "output_type": "stream",
     "text": [
      "Failed to get ticker 'AAPL' reason: Expecting value: line 1 column 1 (char 0)\n",
      "$AAPL: possibly delisted; no timezone found\n",
      "429 Client Error: Too Many Requests for url: https://query2.finance.yahoo.com/v10/finance/quoteSummary/AAPL?modules=financialData%2CquoteType%2CdefaultKeyStatistics%2CassetProfile%2CsummaryDetail&corsDomain=finance.yahoo.com&formatted=false&symbol=AAPL&crumb=%3C%21DOCTYPE+html%3E%0A%3Chtml+lang%3D%22zh%22%3E%0A%3Chead%3E%0A++++%3Cmeta+charset%3D%22utf-8%22%3E%0A++++%3Ctitle%3EYahoo%3C%2Ftitle%3E%0A++++%3Cmeta+name%3D%22viewport%22+content%3D%22width%3Ddevice-width%2Cinitial-scale%3D1%2Cminimal-ui%22%3E%0A++++%3Cmeta+http-equiv%3D%22X-UA-Compatible%22+content%3D%22IE%3Dedge%2Cchrome%3D1%22%3E%0A++++%3Cstyle%3E%0Ahtml+%7B%0A++height%3A+100%25%3B%0A%7D%0Abody+%7B%0A++background%3A+%23fafafc+url%28https%3A%2F%2Fs.yimg.com%2Fnn%2Fimg%2Fsad-panda-201402200631.png%29+50%25+50%25%3B%0A++background-size%3A+cover%3B%0A++height%3A+100%25%3B%0A++text-align%3A+center%3B%0A++font%3A+300+16px+%22helvetica+neue%22%2C+helvetica%2C+verdana%2C+tahoma%2C+arial%2C+sans-serif%3B%0A%7D%0A%23message+%7B%0A++text-align%3A+left%3B%0A++font-weight%3A+400%3B%0A++color%3A+%231A1A1A%3B%0A%7D%0A%23message+a+%7B%0A++padding%3A+0+3px%3B%0A%7D%0A%23container+%7B%0A++position%3A+absolute%3B%0A++top%3A+50%25%3B%0A++left%3A+50%25%3B%0A++padding%3A+0+30px%3B%0A++margin-right%3A+-50%25%3B%0A++transform%3A+translate%28-50%25%2C+-50%25%29%3B%0A++max-width%3A+40em%3B%0A++_width%3A+40em%3B%0A%7D%0A%23container+img+%7B%0A++width%3A+174px%3B%0A++height%3A+auto%3B%0A%7D%0A%23switcher+a+%7B%0A++font-weight%3A+400%3B%0A%7D%0A%23switcher+a.active+%7B%0A++color%3A+%23000%3B%0A++text-decoration%3A+none%3B%0A++cursor%3A+default%3B%0A%7D%0A++++%3C%2Fstyle%3E%0A%3C%2Fhead%3E%0A%3Cbody%3E%0A++%3Cdiv+id%3D%22container%22%3E%0A++++%3Cimg+src%3D%22https%3A%2F%2Fs.yimg.com%2Frz%2Fp%2Fyahoo_homepage_en-US_s_f_p_bestfit_homepage_2x.png%22+alt%3D%22Yahoo+Logo%22%3E%0A++++%3Cdiv+id%3D%22switcher%22%3E%0A++++++%3Ca+data-lang%3D%22en%22+class%3D%22active%22+href%3D%27%23%27%3EEnglish%3C%2Fa%3E+%7C%0A++++++%3Ca+data-lang%3D%22zh-Hant%22+href%3D%27%23%27%3E%C3%A7%C2%B9%C2%81%C3%A9%C2%AB%C2%94%C3%A4%C2%B8%C2%AD%C3%A6%C2%96%C2%87%3C%2Fa%3E+%7C%0A++++++%3Ca+data-lang%3D%22zh-Hans%22+href%3D%27%23%27%3E%C3%A7%C2%AE%C2%80%C3%A4%C2%BD%C2%93%C3%A4%C2%B8%C2%AD%C3%A6%C2%96%C2%87%3C%2Fa%3E%0A++++%3C%2Fdiv%3E%0A++++%3Cdiv+id%3D%22message%22%3E%0A++++++%3Cp%3EAs+of+November+1st%2C+2021+Yahoo%C3%A2%C2%80%C2%99s+suite+of+services+will+no+longer+be+accessible+from+mainland+China.+Yahoo+products+and+services+remain+unaffected+in+all+other+global+locations.+We+thank+you+for+your+support+and+readership.%3C%2Fp%3E%0A++++%3C%2Fdiv%3E%0A++%3C%2Fdiv%3E%0A%3Cscript%3E%0Aconst+Msg+%3D+%7B%0A++%27en%27%3A+%27%3Cp%3EAs+of+November+1st%2C+2021+Yahoo%C3%A2%C2%80%C2%99s+suite+of+services+will+no+longer+be+accessible+from+mainland+China.+Yahoo+products+and+services+remain+unaffected+in+all+other+global+locations.+We+thank+you+for+your+support+and+readership.%3C%2Fp%3E%27%2C%0A++%27zh-Hant%27%3A+%27%3Cp%3E2021+%C3%A5%C2%B9%C2%B4+11+%C3%A6%C2%9C%C2%88+1+%C3%A6%C2%97%C2%A5%C3%A8%C2%B5%C2%B7%C3%AF%C2%BC%C2%8C%C3%A7%C2%94%C2%A8%C3%A6%C2%88%C2%B6%C3%A5%C2%B0%C2%87%C3%A7%C2%84%C2%A1%C3%A6%C2%B3%C2%95%C3%A5%C2%BE%C2%9E%C3%A4%C2%B8%C2%AD%C3%A5%C2%9C%C2%8B%C3%A5%C2%A4%C2%A7%C3%A9%C2%99%C2%B8%C3%A4%C2%BD%C2%BF%C3%A7%C2%94%C2%A8+Yahoo+%C3%A7%C2%9A%C2%84%C3%A7%C2%94%C2%A2%C3%A5%C2%93%C2%81%C3%A8%C2%88%C2%87%C3%A6%C2%9C%C2%8D%C3%A5%C2%8B%C2%99%C3%A3%C2%80%C2%82%C3%A9%C2%80%C2%99%C3%A4%C2%B8%C2%A6%C3%A4%C2%B8%C2%8D%C3%A5%C2%BD%C2%B1%C3%A9%C2%9F%C2%BF+Yahoo+%C3%A5%C2%9C%C2%A8%C3%A5%C2%85%C2%A8%C3%A7%C2%90%C2%83%C3%A5%C2%85%C2%B6%C3%A4%C2%BB%C2%96%C3%A5%C2%9C%C2%B0%C3%A6%C2%96%C2%B9%C3%A7%C2%9A%C2%84%C3%A7%C2%94%C2%A2%C3%A5%C2%93%C2%81%C3%A5%C2%8F%C2%8A%C3%A6%C2%9C%C2%8D%C3%A5%C2%8B%C2%99%C3%A3%C2%80%C2%82%C3%A6%C2%88%C2%91%C3%A5%C2%80%C2%91%C3%A6%C2%84%C2%9F%C3%A8%C2%AC%C2%9D%C3%A6%C2%82%C2%A8%C3%A4%C2%B8%C2%80%C3%A7%C2%9B%C2%B4%C3%A4%C2%BB%C2%A5%C3%A4%C2%BE%C2%86%C3%A7%C2%9A%C2%84%C3%A6%C2%94%C2%AF%C3%A6%C2%8C%C2%81%C3%A3%C2%80%C2%82%3C%2Fp%3E%27%2C%0A++%27zh-Hans%27%3A+%27%3Cp%3E2021+%C3%A5%C2%B9%C2%B4+11+%C3%A6%C2%9C%C2%88+1+%C3%A6%C2%97%C2%A5%C3%A8%C2%B5%C2%B7%C3%AF%C2%BC%C2%8C%C3%A7%C2%94%C2%A8%C3%A6%C2%88%C2%B7%C3%A5%C2%B0%C2%86%C3%A6%C2%97%C2%A0%C3%A6%C2%B3%C2%95%C3%A4%C2%BB%C2%8E%C3%A4%C2%B8%C2%AD%C3%A5%C2%9B%C2%BD%C3%A5%C2%A4%C2%A7%C3%A9%C2%99%C2%86%C3%A4%C2%BD%C2%BF%C3%A7%C2%94%C2%A8+Yahoo+%C3%A7%C2%9A%C2%84%C3%A4%C2%BA%C2%A7%C3%A5%C2%93%C2%81%C3%A4%C2%B8%C2%8E%C3%A6%C2%9C%C2%8D%C3%A5%C2%8A%C2%A1%C3%A3%C2%80%C2%82%C3%A8%C2%BF%C2%99%C3%A5%C2%B9%C2%B6%C3%A4%C2%B8%C2%8D%C3%A5%C2%BD%C2%B1%C3%A5%C2%93%C2%8D+Yahoo+%C3%A5%C2%9C%C2%A8%C3%A5%C2%85%C2%A8%C3%A7%C2%90%C2%83%C3%A5%C2%85%C2%B6%C3%A4%C2%BB%C2%96%C3%A5%C2%9C%C2%B0%C3%A6%C2%96%C2%B9%C3%A7%C2%9A%C2%84%C3%A4%C2%BA%C2%A7%C3%A5%C2%93%C2%81%C3%A5%C2%8F%C2%8A%C3%A6%C2%9C%C2%8D%C3%A5%C2%8A%C2%A1%C3%A3%C2%80%C2%82%C3%A6%C2%88%C2%91%C3%A4%C2%BB%C2%AC%C3%A6%C2%84%C2%9F%C3%A8%C2%B0%C2%A2%C3%A4%C2%BD%C2%A0%C3%A4%C2%B8%C2%80%C3%A7%C2%9B%C2%B4%C3%A4%C2%BB%C2%A5%C3%A4%C2%BE%C2%86%C3%A7%C2%9A%C2%84%C3%A6%C2%94%C2%AF%C3%A6%C2%8C%C2%81%C3%A3%C2%80%C2%82%3C%2Fp%3E%27%0A%7D%3B%0A%0Aconst+message+%3D+document.querySelector%28%27%23message%27%29%3B%0A%0Aconst+switchLang+%3D+function+%28lang%29+%7B%0A++message.innerHTML+%3D+Msg%5Blang%5D+%3F+Msg%5Blang%5D+%3A+Msg.en%3B%0A++const+oldE+%3D+document.querySelector%28%27%23switcher+.active%27%29%3B%0A++const+newE+%3D+document.querySelector%28%60%23switcher+a%5Bdata-lang%3D%24%7Blang%7D%5D%60%29%3B%0A++oldE.className+%3D+%27%27%3B%0A++newE.className+%3D+%27active%27%3B%0A%7D%0A%0Aconst+detectLang+%3D+function%28%29+%7B%0A++const+langs+%3D+window.navigator.languages+%3F+window.navigator.languages+%3A+%5Bwindow.navigator.language%5D%3B%0A++const+availableLangs+%3D+langs.map%28l+%3D%3E+l.toLowerCase%28%29%29.filter%28l+%3D%3E+%2F%5Een%2F.test%28l%29+%7C%7C+%2F%5Ezh%2F.test%28l%29%29%3B%0A++const+selectedLang+%3D+availableLangs.length+%3F+availableLangs%5B0%5D+%3A+%27en%27%3B%0A++const+prefLang+%3D++%2F%5Een%2F.test%28selectedLang%29+%3F+%27en%27+%3A%0A++++++%28selectedLang+%3D%3D%3D+%27zh-tw%27+%7C%7C+selectedLang+%3D%3D%3D+%27zh-hk%27%29+%3F+%27zh-Hant%27+%3A+%27zh-Hans%27%3B%0A++switchLang%28prefLang%29%3B%0A%7D%0A%0Aconst+switcher+%3D+document.querySelector%28%27%23switcher%27%29%3B%0Aswitcher.addEventListener%28%27click%27%2C+%28e%29+%3D%3E+%7B%0A++const+lang+%3D+e.target.getAttribute%28%27data-lang%27%29%3B%0A++if+%28lang%29+%7B%0A++++switchLang%28lang%29%3B%0A++%7D%0A%7D%29%3B%0A%0AdetectLang%28%29%3B%0A%0A%3C%2Fscript%3E%0A%3C%2Fbody%3E%3C%2Fhtml%3E%0A\n"
     ]
    },
    {
     "ename": "JSONDecodeError",
     "evalue": "Expecting value: line 1 column 1 (char 0)",
     "output_type": "error",
     "traceback": [
      "\u001b[0;31m---------------------------------------------------------------------------\u001b[0m",
      "\u001b[0;31mJSONDecodeError\u001b[0m                           Traceback (most recent call last)",
      "Cell \u001b[0;32mIn[2], line 12\u001b[0m\n\u001b[1;32m      6\u001b[0m \u001b[38;5;66;03m# AAPL 45202030\u001b[39;00m\n\u001b[1;32m      7\u001b[0m \n\u001b[1;32m      8\u001b[0m \n\u001b[1;32m      9\u001b[0m \u001b[38;5;66;03m# 如果您需要下载特定时间段的数据，可以使用start和end参数\u001b[39;00m\n\u001b[1;32m     10\u001b[0m hist \u001b[38;5;241m=\u001b[39m ticker\u001b[38;5;241m.\u001b[39mhistory(start\u001b[38;5;241m=\u001b[39m\u001b[38;5;124m\"\u001b[39m\u001b[38;5;124m2025-01-10\u001b[39m\u001b[38;5;124m\"\u001b[39m, end\u001b[38;5;241m=\u001b[39m\u001b[38;5;124m\"\u001b[39m\u001b[38;5;124m2025-01-16\u001b[39m\u001b[38;5;124m\"\u001b[39m)\n\u001b[0;32m---> 12\u001b[0m info \u001b[38;5;241m=\u001b[39m \u001b[43mticker\u001b[49m\u001b[38;5;241;43m.\u001b[39;49m\u001b[43minfo\u001b[49m\n\u001b[1;32m     14\u001b[0m gics_sector \u001b[38;5;241m=\u001b[39m info\u001b[38;5;241m.\u001b[39mget(\u001b[38;5;124m'\u001b[39m\u001b[38;5;124msector\u001b[39m\u001b[38;5;124m'\u001b[39m)\n\u001b[1;32m     15\u001b[0m gics_industry \u001b[38;5;241m=\u001b[39m info\u001b[38;5;241m.\u001b[39mget(\u001b[38;5;124m'\u001b[39m\u001b[38;5;124mindustry\u001b[39m\u001b[38;5;124m'\u001b[39m)\n",
      "File \u001b[0;32m~/.local/lib/python3.11/site-packages/yfinance/ticker.py:159\u001b[0m, in \u001b[0;36mTicker.info\u001b[0;34m(self)\u001b[0m\n\u001b[1;32m    157\u001b[0m \u001b[38;5;129m@property\u001b[39m\n\u001b[1;32m    158\u001b[0m \u001b[38;5;28;01mdef\u001b[39;00m\u001b[38;5;250m \u001b[39m\u001b[38;5;21minfo\u001b[39m(\u001b[38;5;28mself\u001b[39m) \u001b[38;5;241m-\u001b[39m\u001b[38;5;241m>\u001b[39m \u001b[38;5;28mdict\u001b[39m:\n\u001b[0;32m--> 159\u001b[0m     \u001b[38;5;28;01mreturn\u001b[39;00m \u001b[38;5;28;43mself\u001b[39;49m\u001b[38;5;241;43m.\u001b[39;49m\u001b[43mget_info\u001b[49m\u001b[43m(\u001b[49m\u001b[43m)\u001b[49m\n",
      "File \u001b[0;32m~/.local/lib/python3.11/site-packages/yfinance/base.py:230\u001b[0m, in \u001b[0;36mTickerBase.get_info\u001b[0;34m(self, proxy)\u001b[0m\n\u001b[1;32m    228\u001b[0m \u001b[38;5;28;01mdef\u001b[39;00m\u001b[38;5;250m \u001b[39m\u001b[38;5;21mget_info\u001b[39m(\u001b[38;5;28mself\u001b[39m, proxy\u001b[38;5;241m=\u001b[39m\u001b[38;5;28;01mNone\u001b[39;00m) \u001b[38;5;241m-\u001b[39m\u001b[38;5;241m>\u001b[39m \u001b[38;5;28mdict\u001b[39m:\n\u001b[1;32m    229\u001b[0m     \u001b[38;5;28mself\u001b[39m\u001b[38;5;241m.\u001b[39m_quote\u001b[38;5;241m.\u001b[39mproxy \u001b[38;5;241m=\u001b[39m proxy \u001b[38;5;129;01mor\u001b[39;00m \u001b[38;5;28mself\u001b[39m\u001b[38;5;241m.\u001b[39mproxy\n\u001b[0;32m--> 230\u001b[0m     data \u001b[38;5;241m=\u001b[39m \u001b[38;5;28;43mself\u001b[39;49m\u001b[38;5;241;43m.\u001b[39;49m\u001b[43m_quote\u001b[49m\u001b[38;5;241;43m.\u001b[39;49m\u001b[43minfo\u001b[49m\n\u001b[1;32m    231\u001b[0m     \u001b[38;5;28;01mreturn\u001b[39;00m data\n",
      "File \u001b[0;32m~/.local/lib/python3.11/site-packages/yfinance/scrapers/quote.py:509\u001b[0m, in \u001b[0;36mQuote.info\u001b[0;34m(self)\u001b[0m\n\u001b[1;32m    507\u001b[0m \u001b[38;5;28;01mif\u001b[39;00m \u001b[38;5;28mself\u001b[39m\u001b[38;5;241m.\u001b[39m_info \u001b[38;5;129;01mis\u001b[39;00m \u001b[38;5;28;01mNone\u001b[39;00m:\n\u001b[1;32m    508\u001b[0m     \u001b[38;5;28mself\u001b[39m\u001b[38;5;241m.\u001b[39m_fetch_info(\u001b[38;5;28mself\u001b[39m\u001b[38;5;241m.\u001b[39mproxy)\n\u001b[0;32m--> 509\u001b[0m     \u001b[38;5;28;43mself\u001b[39;49m\u001b[38;5;241;43m.\u001b[39;49m\u001b[43m_fetch_complementary\u001b[49m\u001b[43m(\u001b[49m\u001b[38;5;28;43mself\u001b[39;49m\u001b[38;5;241;43m.\u001b[39;49m\u001b[43mproxy\u001b[49m\u001b[43m)\u001b[49m\n\u001b[1;32m    511\u001b[0m \u001b[38;5;28;01mreturn\u001b[39;00m \u001b[38;5;28mself\u001b[39m\u001b[38;5;241m.\u001b[39m_info\n",
      "File \u001b[0;32m~/.local/lib/python3.11/site-packages/yfinance/scrapers/quote.py:684\u001b[0m, in \u001b[0;36mQuote._fetch_complementary\u001b[0;34m(self, proxy)\u001b[0m\n\u001b[1;32m    681\u001b[0m url \u001b[38;5;241m+\u001b[39m\u001b[38;5;241m=\u001b[39m \u001b[38;5;124mf\u001b[39m\u001b[38;5;124m\"\u001b[39m\u001b[38;5;124m&period1=\u001b[39m\u001b[38;5;132;01m{\u001b[39;00mstart\u001b[38;5;132;01m}\u001b[39;00m\u001b[38;5;124m&period2=\u001b[39m\u001b[38;5;132;01m{\u001b[39;00mend\u001b[38;5;132;01m}\u001b[39;00m\u001b[38;5;124m\"\u001b[39m\n\u001b[1;32m    683\u001b[0m json_str \u001b[38;5;241m=\u001b[39m \u001b[38;5;28mself\u001b[39m\u001b[38;5;241m.\u001b[39m_data\u001b[38;5;241m.\u001b[39mcache_get(url\u001b[38;5;241m=\u001b[39murl, proxy\u001b[38;5;241m=\u001b[39mproxy)\u001b[38;5;241m.\u001b[39mtext\n\u001b[0;32m--> 684\u001b[0m json_data \u001b[38;5;241m=\u001b[39m \u001b[43mjson\u001b[49m\u001b[38;5;241;43m.\u001b[39;49m\u001b[43mloads\u001b[49m\u001b[43m(\u001b[49m\u001b[43mjson_str\u001b[49m\u001b[43m)\u001b[49m\n\u001b[1;32m    685\u001b[0m json_result \u001b[38;5;241m=\u001b[39m json_data\u001b[38;5;241m.\u001b[39mget(\u001b[38;5;124m\"\u001b[39m\u001b[38;5;124mtimeseries\u001b[39m\u001b[38;5;124m\"\u001b[39m) \u001b[38;5;129;01mor\u001b[39;00m json_data\u001b[38;5;241m.\u001b[39mget(\u001b[38;5;124m\"\u001b[39m\u001b[38;5;124mfinance\u001b[39m\u001b[38;5;124m\"\u001b[39m)\n\u001b[1;32m    686\u001b[0m \u001b[38;5;28;01mif\u001b[39;00m json_result[\u001b[38;5;124m\"\u001b[39m\u001b[38;5;124merror\u001b[39m\u001b[38;5;124m\"\u001b[39m] \u001b[38;5;129;01mis\u001b[39;00m \u001b[38;5;129;01mnot\u001b[39;00m \u001b[38;5;28;01mNone\u001b[39;00m:\n",
      "File \u001b[0;32m/opt/anaconda3/envs/py311/lib/python3.11/json/__init__.py:346\u001b[0m, in \u001b[0;36mloads\u001b[0;34m(s, cls, object_hook, parse_float, parse_int, parse_constant, object_pairs_hook, **kw)\u001b[0m\n\u001b[1;32m    341\u001b[0m     s \u001b[38;5;241m=\u001b[39m s\u001b[38;5;241m.\u001b[39mdecode(detect_encoding(s), \u001b[38;5;124m'\u001b[39m\u001b[38;5;124msurrogatepass\u001b[39m\u001b[38;5;124m'\u001b[39m)\n\u001b[1;32m    343\u001b[0m \u001b[38;5;28;01mif\u001b[39;00m (\u001b[38;5;28mcls\u001b[39m \u001b[38;5;129;01mis\u001b[39;00m \u001b[38;5;28;01mNone\u001b[39;00m \u001b[38;5;129;01mand\u001b[39;00m object_hook \u001b[38;5;129;01mis\u001b[39;00m \u001b[38;5;28;01mNone\u001b[39;00m \u001b[38;5;129;01mand\u001b[39;00m\n\u001b[1;32m    344\u001b[0m         parse_int \u001b[38;5;129;01mis\u001b[39;00m \u001b[38;5;28;01mNone\u001b[39;00m \u001b[38;5;129;01mand\u001b[39;00m parse_float \u001b[38;5;129;01mis\u001b[39;00m \u001b[38;5;28;01mNone\u001b[39;00m \u001b[38;5;129;01mand\u001b[39;00m\n\u001b[1;32m    345\u001b[0m         parse_constant \u001b[38;5;129;01mis\u001b[39;00m \u001b[38;5;28;01mNone\u001b[39;00m \u001b[38;5;129;01mand\u001b[39;00m object_pairs_hook \u001b[38;5;129;01mis\u001b[39;00m \u001b[38;5;28;01mNone\u001b[39;00m \u001b[38;5;129;01mand\u001b[39;00m \u001b[38;5;129;01mnot\u001b[39;00m kw):\n\u001b[0;32m--> 346\u001b[0m     \u001b[38;5;28;01mreturn\u001b[39;00m \u001b[43m_default_decoder\u001b[49m\u001b[38;5;241;43m.\u001b[39;49m\u001b[43mdecode\u001b[49m\u001b[43m(\u001b[49m\u001b[43ms\u001b[49m\u001b[43m)\u001b[49m\n\u001b[1;32m    347\u001b[0m \u001b[38;5;28;01mif\u001b[39;00m \u001b[38;5;28mcls\u001b[39m \u001b[38;5;129;01mis\u001b[39;00m \u001b[38;5;28;01mNone\u001b[39;00m:\n\u001b[1;32m    348\u001b[0m     \u001b[38;5;28mcls\u001b[39m \u001b[38;5;241m=\u001b[39m JSONDecoder\n",
      "File \u001b[0;32m/opt/anaconda3/envs/py311/lib/python3.11/json/decoder.py:337\u001b[0m, in \u001b[0;36mJSONDecoder.decode\u001b[0;34m(self, s, _w)\u001b[0m\n\u001b[1;32m    332\u001b[0m \u001b[38;5;28;01mdef\u001b[39;00m\u001b[38;5;250m \u001b[39m\u001b[38;5;21mdecode\u001b[39m(\u001b[38;5;28mself\u001b[39m, s, _w\u001b[38;5;241m=\u001b[39mWHITESPACE\u001b[38;5;241m.\u001b[39mmatch):\n\u001b[1;32m    333\u001b[0m \u001b[38;5;250m    \u001b[39m\u001b[38;5;124;03m\"\"\"Return the Python representation of ``s`` (a ``str`` instance\u001b[39;00m\n\u001b[1;32m    334\u001b[0m \u001b[38;5;124;03m    containing a JSON document).\u001b[39;00m\n\u001b[1;32m    335\u001b[0m \n\u001b[1;32m    336\u001b[0m \u001b[38;5;124;03m    \"\"\"\u001b[39;00m\n\u001b[0;32m--> 337\u001b[0m     obj, end \u001b[38;5;241m=\u001b[39m \u001b[38;5;28;43mself\u001b[39;49m\u001b[38;5;241;43m.\u001b[39;49m\u001b[43mraw_decode\u001b[49m\u001b[43m(\u001b[49m\u001b[43ms\u001b[49m\u001b[43m,\u001b[49m\u001b[43m \u001b[49m\u001b[43midx\u001b[49m\u001b[38;5;241;43m=\u001b[39;49m\u001b[43m_w\u001b[49m\u001b[43m(\u001b[49m\u001b[43ms\u001b[49m\u001b[43m,\u001b[49m\u001b[43m \u001b[49m\u001b[38;5;241;43m0\u001b[39;49m\u001b[43m)\u001b[49m\u001b[38;5;241;43m.\u001b[39;49m\u001b[43mend\u001b[49m\u001b[43m(\u001b[49m\u001b[43m)\u001b[49m\u001b[43m)\u001b[49m\n\u001b[1;32m    338\u001b[0m     end \u001b[38;5;241m=\u001b[39m _w(s, end)\u001b[38;5;241m.\u001b[39mend()\n\u001b[1;32m    339\u001b[0m     \u001b[38;5;28;01mif\u001b[39;00m end \u001b[38;5;241m!=\u001b[39m \u001b[38;5;28mlen\u001b[39m(s):\n",
      "File \u001b[0;32m/opt/anaconda3/envs/py311/lib/python3.11/json/decoder.py:355\u001b[0m, in \u001b[0;36mJSONDecoder.raw_decode\u001b[0;34m(self, s, idx)\u001b[0m\n\u001b[1;32m    353\u001b[0m     obj, end \u001b[38;5;241m=\u001b[39m \u001b[38;5;28mself\u001b[39m\u001b[38;5;241m.\u001b[39mscan_once(s, idx)\n\u001b[1;32m    354\u001b[0m \u001b[38;5;28;01mexcept\u001b[39;00m \u001b[38;5;167;01mStopIteration\u001b[39;00m \u001b[38;5;28;01mas\u001b[39;00m err:\n\u001b[0;32m--> 355\u001b[0m     \u001b[38;5;28;01mraise\u001b[39;00m JSONDecodeError(\u001b[38;5;124m\"\u001b[39m\u001b[38;5;124mExpecting value\u001b[39m\u001b[38;5;124m\"\u001b[39m, s, err\u001b[38;5;241m.\u001b[39mvalue) \u001b[38;5;28;01mfrom\u001b[39;00m\u001b[38;5;250m \u001b[39m\u001b[38;5;28;01mNone\u001b[39;00m\n\u001b[1;32m    356\u001b[0m \u001b[38;5;28;01mreturn\u001b[39;00m obj, end\n",
      "\u001b[0;31mJSONDecodeError\u001b[0m: Expecting value: line 1 column 1 (char 0)"
     ]
    }
   ],
   "source": [
    "import yfinance as yf\n",
    "\n",
    "# 下载特定股票的历史数据\n",
    "ticker = yf.Ticker(\"AAPL\")  # 例如，获取苹果公司（AAPL）的数据\n",
    "\n",
    "# AAPL 45202030\n",
    "\n",
    "\n",
    "# 如果您需要下载特定时间段的数据，可以使用start和end参数\n",
    "hist = ticker.history(start=\"2025-01-10\", end=\"2025-01-16\")\n",
    "\n",
    "info = ticker.info\n",
    "\n",
    "gics_sector = info.get('sector')\n",
    "gics_industry = info.get('industry')\n",
    "print(f\"Gics Sector: {gics_sector}\")\n",
    "print(f\"Gics Industry: {gics_industry}\")\n",
    "# 打印实时数据\n",
    "print(hist.head())\n"
   ]
  },
  {
   "cell_type": "code",
   "execution_count": null,
   "metadata": {},
   "outputs": [],
   "source": []
  }
 ],
 "metadata": {
  "kernelspec": {
   "display_name": "py311",
   "language": "python",
   "name": "python3"
  },
  "language_info": {
   "codemirror_mode": {
    "name": "ipython",
    "version": 3
   },
   "file_extension": ".py",
   "mimetype": "text/x-python",
   "name": "python",
   "nbconvert_exporter": "python",
   "pygments_lexer": "ipython3",
   "version": "3.11.7"
  }
 },
 "nbformat": 4,
 "nbformat_minor": 2
}
