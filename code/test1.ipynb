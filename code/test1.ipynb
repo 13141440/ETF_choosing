{
 "cells": [
  {
   "cell_type": "code",
   "execution_count": 3,
   "metadata": {},
   "outputs": [
    {
     "name": "stdout",
     "output_type": "stream",
     "text": [
      "<class 'pandas.core.frame.DataFrame'>\n",
      "        Date  Open  High  Low  Close\n",
      "0 2023-01-01   100   101   99    100\n",
      "1 2023-01-02   101   102  100    101\n",
      "2 2023-01-03   102   103  101    102\n",
      "Alpha: -0.009900990099164337\n",
      "Beta: 3.9801980198329967\n"
     ]
    }
   ],
   "source": [
    "import pandas as pd\n",
    "import statsmodels.api as sm\n",
    "\n",
    "# 假设以下是 ETF 和 SPY 的 K 线数据（示例数据）\n",
    "data_etf = {\n",
    "    'Date': ['2023-01-01', '2023-01-02', '2023-01-03'],\n",
    "    'Open': [100, 101, 102],\n",
    "    'High': [101, 102, 103],\n",
    "    'Low': [99, 100, 101],\n",
    "    'Close': [100, 101, 102]\n",
    "}\n",
    "\n",
    "data_spy = {\n",
    "    'Date': ['2023-01-01', '2023-01-02', '2023-01-03'],\n",
    "    'Open': [400, 402, 404],\n",
    "    'High': [402, 404, 406],\n",
    "    'Low': [398, 400, 402],\n",
    "    'Close': [400, 402, 404]\n",
    "}\n",
    "\n",
    "# 将数据读入 DataFrame\n",
    "df_etf = pd.DataFrame(data_etf)\n",
    "df_spy = pd.DataFrame(data_spy)\n",
    "\n",
    "# 确保日期对齐，并按日期排序\n",
    "df_etf['Date'] = pd.to_datetime(df_etf['Date'])\n",
    "df_spy['Date'] = pd.to_datetime(df_spy['Date'])\n",
    "df_etf = df_etf.sort_values(by='Date')\n",
    "df_spy = df_spy.sort_values(by='Date')\n",
    "print(type(df_etf))\n",
    "print(df_etf.head())\n",
    "# 合并两个数据集，基于 Date\n",
    "df = pd.merge(df_etf[['Date', 'Close']], df_spy[['Date', 'Close']], on='Date', suffixes=('_ETF', '_SPY'))\n",
    "\n",
    "# 计算每日收益率（简单收益率）\n",
    "df['ETF_Return'] = df['Close_ETF'].pct_change()\n",
    "df['SPY_Return'] = df['Close_SPY'].pct_change()\n",
    "\n",
    "# 去除空值\n",
    "df = df.dropna()\n",
    "\n",
    "# 执行线性回归计算 Alpha 和 Beta\n",
    "X = sm.add_constant(df['SPY_Return'])  # 添加常数项\n",
    "y = df['ETF_Return']\n",
    "\n",
    "model = sm.OLS(y, X).fit()  # 线性回归\n",
    "alpha = model.params['const']  # Alpha 值\n",
    "beta = model.params['SPY_Return']  # Beta 值\n",
    "\n",
    "# 输出结果\n",
    "print(\"Alpha:\", alpha)\n",
    "print(\"Beta:\", beta)\n"
   ]
  }
 ],
 "metadata": {
  "kernelspec": {
   "display_name": "py311",
   "language": "python",
   "name": "python3"
  },
  "language_info": {
   "codemirror_mode": {
    "name": "ipython",
    "version": 3
   },
   "file_extension": ".py",
   "mimetype": "text/x-python",
   "name": "python",
   "nbconvert_exporter": "python",
   "pygments_lexer": "ipython3",
   "version": "3.11.7"
  }
 },
 "nbformat": 4,
 "nbformat_minor": 2
}
